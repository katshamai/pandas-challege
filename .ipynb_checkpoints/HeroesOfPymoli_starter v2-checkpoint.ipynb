{
 "cells": [
  {
   "cell_type": "markdown",
   "metadata": {},
   "source": [
    "### Note\n",
    "* Instructions have been included for each segment. You do not have to follow them exactly, but they are included to help you think through the steps."
   ]
  },
  {
   "cell_type": "code",
   "execution_count": 2,
   "metadata": {},
   "outputs": [
    {
     "data": {
      "text/html": [
       "<div>\n",
       "<style scoped>\n",
       "    .dataframe tbody tr th:only-of-type {\n",
       "        vertical-align: middle;\n",
       "    }\n",
       "\n",
       "    .dataframe tbody tr th {\n",
       "        vertical-align: top;\n",
       "    }\n",
       "\n",
       "    .dataframe thead th {\n",
       "        text-align: right;\n",
       "    }\n",
       "</style>\n",
       "<table border=\"1\" class=\"dataframe\">\n",
       "  <thead>\n",
       "    <tr style=\"text-align: right;\">\n",
       "      <th></th>\n",
       "      <th>Purchase ID</th>\n",
       "      <th>SN</th>\n",
       "      <th>Age</th>\n",
       "      <th>Gender</th>\n",
       "      <th>Item ID</th>\n",
       "      <th>Item Name</th>\n",
       "      <th>Price</th>\n",
       "    </tr>\n",
       "  </thead>\n",
       "  <tbody>\n",
       "    <tr>\n",
       "      <th>0</th>\n",
       "      <td>0</td>\n",
       "      <td>Lisim78</td>\n",
       "      <td>20</td>\n",
       "      <td>Male</td>\n",
       "      <td>108</td>\n",
       "      <td>Extraction, Quickblade Of Trembling Hands</td>\n",
       "      <td>3.53</td>\n",
       "    </tr>\n",
       "    <tr>\n",
       "      <th>1</th>\n",
       "      <td>1</td>\n",
       "      <td>Lisovynya38</td>\n",
       "      <td>40</td>\n",
       "      <td>Male</td>\n",
       "      <td>143</td>\n",
       "      <td>Frenzied Scimitar</td>\n",
       "      <td>1.56</td>\n",
       "    </tr>\n",
       "    <tr>\n",
       "      <th>2</th>\n",
       "      <td>2</td>\n",
       "      <td>Ithergue48</td>\n",
       "      <td>24</td>\n",
       "      <td>Male</td>\n",
       "      <td>92</td>\n",
       "      <td>Final Critic</td>\n",
       "      <td>4.88</td>\n",
       "    </tr>\n",
       "    <tr>\n",
       "      <th>3</th>\n",
       "      <td>3</td>\n",
       "      <td>Chamassasya86</td>\n",
       "      <td>24</td>\n",
       "      <td>Male</td>\n",
       "      <td>100</td>\n",
       "      <td>Blindscythe</td>\n",
       "      <td>3.27</td>\n",
       "    </tr>\n",
       "    <tr>\n",
       "      <th>4</th>\n",
       "      <td>4</td>\n",
       "      <td>Iskosia90</td>\n",
       "      <td>23</td>\n",
       "      <td>Male</td>\n",
       "      <td>131</td>\n",
       "      <td>Fury</td>\n",
       "      <td>1.44</td>\n",
       "    </tr>\n",
       "  </tbody>\n",
       "</table>\n",
       "</div>"
      ],
      "text/plain": [
       "   Purchase ID             SN  Age Gender  Item ID  \\\n",
       "0            0        Lisim78   20   Male      108   \n",
       "1            1    Lisovynya38   40   Male      143   \n",
       "2            2     Ithergue48   24   Male       92   \n",
       "3            3  Chamassasya86   24   Male      100   \n",
       "4            4      Iskosia90   23   Male      131   \n",
       "\n",
       "                                   Item Name  Price  \n",
       "0  Extraction, Quickblade Of Trembling Hands   3.53  \n",
       "1                          Frenzied Scimitar   1.56  \n",
       "2                               Final Critic   4.88  \n",
       "3                                Blindscythe   3.27  \n",
       "4                                       Fury   1.44  "
      ]
     },
     "execution_count": 2,
     "metadata": {},
     "output_type": "execute_result"
    }
   ],
   "source": [
    "# Dependencies and Setup\n",
    "import pandas as pd\n",
    "import numpy as np\n",
    "\n",
    "# File to Load (Remember to Change These)\n",
    "file_to_load = \"Resources/purchase_data.csv\"\n",
    "\n",
    "# Read Purchasing File and store into Pandas data frame\n",
    "purchase_data_df = pd.read_csv(file_to_load)\n",
    "purchase_data_df = pd.DataFrame(purchase_data_df)\n",
    "purchase_data_df.head()"
   ]
  },
  {
   "cell_type": "markdown",
   "metadata": {},
   "source": [
    "## Player Count"
   ]
  },
  {
   "cell_type": "markdown",
   "metadata": {},
   "source": [
    "* Display the total number of players\n"
   ]
  },
  {
   "cell_type": "code",
   "execution_count": 3,
   "metadata": {},
   "outputs": [
    {
     "data": {
      "text/html": [
       "<style  type=\"text/css\" >\n",
       "</style><table id=\"T_1dd95634_b611_11ea_aa8d_287fcfdc7f07\" ><thead>    <tr>        <th class=\"col_heading level0 col0\" >Total Players</th>    </tr></thead><tbody>\n",
       "                <tr>\n",
       "                                <td id=\"T_1dd95634_b611_11ea_aa8d_287fcfdc7f07row0_col0\" class=\"data row0 col0\" >576</td>\n",
       "            </tr>\n",
       "    </tbody></table>"
      ],
      "text/plain": [
       "<pandas.io.formats.style.Styler at 0x1d397e20908>"
      ]
     },
     "execution_count": 3,
     "metadata": {},
     "output_type": "execute_result"
    }
   ],
   "source": [
    "total_players_df = pd.DataFrame(purchase_data_df[[\"Purchase ID\", \"SN\", \"Age\",\n",
    "                           \"Gender\", \"Item ID\", \"Item Name\", \"Price\"]])\n",
    "total_players_df = total_players_df.drop_duplicates(subset=\"SN\", keep=\"first\", inplace=False)\n",
    "total_players_df = total_players_df.rename(columns={\"SN\":\"Total Players\"})\n",
    "total_players_summary = dict()\n",
    "total_players_summary[\"Total Players\"] = len(total_players_df[\"Total Players\"].unique())\n",
    "total_players_summary_df = pd.DataFrame([total_players_summary])\n",
    "total_players_summary_df.style.hide_index()"
   ]
  },
  {
   "cell_type": "markdown",
   "metadata": {},
   "source": [
    "## Purchasing Analysis (Total)"
   ]
  },
  {
   "cell_type": "markdown",
   "metadata": {},
   "source": [
    "* Run basic calculations to obtain number of unique items, average price, etc.\n",
    "\n",
    "\n",
    "* Create a summary data frame to hold the results\n",
    "\n",
    "\n",
    "* Optional: give the displayed data cleaner formatting\n",
    "\n",
    "\n",
    "* Display the summary data frame\n"
   ]
  },
  {
   "cell_type": "code",
   "execution_count": 21,
   "metadata": {
    "scrolled": true
   },
   "outputs": [],
   "source": [
    "# Number of unique items\n",
    "unique_items = len(purchase_data_df[\"Item ID\"].unique())"
   ]
  },
  {
   "cell_type": "code",
   "execution_count": 22,
   "metadata": {},
   "outputs": [],
   "source": [
    "# Number of Purchases\n",
    "total_purchases = len(purchase_data_df[\"Item Name\"])"
   ]
  },
  {
   "cell_type": "code",
   "execution_count": 23,
   "metadata": {},
   "outputs": [],
   "source": [
    "# Total Revenue\n",
    "total_revenue = 0\n",
    "\n",
    "for col in ['Price']:\n",
    "    \n",
    "    total_revenue += purchase_data_df[col].sum()"
   ]
  },
  {
   "cell_type": "code",
   "execution_count": 24,
   "metadata": {},
   "outputs": [],
   "source": [
    "# Average Price calculation\n",
    "average_price = purchase_data_df[\"Price\"].mean()"
   ]
  },
  {
   "cell_type": "code",
   "execution_count": 25,
   "metadata": {},
   "outputs": [
    {
     "data": {
      "text/html": [
       "<style  type=\"text/css\" >\n",
       "</style><table id=\"T_272cef1a_b611_11ea_8639_287fcfdc7f07\" ><thead>    <tr>        <th class=\"col_heading level0 col0\" >Number of Unique Items</th>        <th class=\"col_heading level0 col1\" >Average Price</th>        <th class=\"col_heading level0 col2\" >Number of Purchases</th>        <th class=\"col_heading level0 col3\" >Total Revenue</th>    </tr></thead><tbody>\n",
       "                <tr>\n",
       "                                <td id=\"T_272cef1a_b611_11ea_8639_287fcfdc7f07row0_col0\" class=\"data row0 col0\" >179</td>\n",
       "                        <td id=\"T_272cef1a_b611_11ea_8639_287fcfdc7f07row0_col1\" class=\"data row0 col1\" >$3.05</td>\n",
       "                        <td id=\"T_272cef1a_b611_11ea_8639_287fcfdc7f07row0_col2\" class=\"data row0 col2\" >780</td>\n",
       "                        <td id=\"T_272cef1a_b611_11ea_8639_287fcfdc7f07row0_col3\" class=\"data row0 col3\" >$2,379.77</td>\n",
       "            </tr>\n",
       "    </tbody></table>"
      ],
      "text/plain": [
       "<pandas.io.formats.style.Styler at 0x1d398ca47c8>"
      ]
     },
     "execution_count": 25,
     "metadata": {},
     "output_type": "execute_result"
    }
   ],
   "source": [
    "#Create summary data frame\n",
    "summary_data = dict()\n",
    "\n",
    "summary_data[\"Number of Unique Items\"] = unique_items\n",
    "summary_data[\"Average Price\"] = average_price\n",
    "summary_data[\"Number of Purchases\"] = total_purchases\n",
    "summary_data[\"Total Revenue\"] = total_revenue\n",
    "summary_df = pd.DataFrame([summary_data])\n",
    "summary_df['Average Price'] = summary_df['Average Price'].map('${:,.2f}'.format)\n",
    "summary_df['Total Revenue'] = summary_df['Total Revenue'].map('${:,.2f}'.format)\n",
    "summary_df.style.hide_index()"
   ]
  },
  {
   "cell_type": "markdown",
   "metadata": {},
   "source": [
    "## Gender Demographics"
   ]
  },
  {
   "cell_type": "markdown",
   "metadata": {},
   "source": [
    "* Percentage and Count of Male Players\n",
    "\n",
    "\n",
    "* Percentage and Count of Female Players\n",
    "\n",
    "\n",
    "* Percentage and Count of Other / Non-Disclosed\n",
    "\n",
    "\n"
   ]
  },
  {
   "cell_type": "code",
   "execution_count": 26,
   "metadata": {},
   "outputs": [],
   "source": [
    "# Count of male players\n",
    "male_players = purchase_data_df[purchase_data_df[\"Gender\"] == \"Male\"]\n",
    "male_players_unique = (male_players[\"SN\"].unique())\n",
    "male_players_unique_count = len(male_players[\"SN\"].unique())\n",
    "male_players_unique_count\n",
    "\n",
    "male_gender_perc = ((male_players_unique_count / total_players_summary_df['Total Players'])*100).map(\"{:,.2f}%\".format)\n",
    "male_gender_perc\n",
    "\n",
    "male_summary = dict()\n",
    "male_summary = pd.DataFrame({\"Gender\": \"Male\", \"Total Count\": male_players_unique_count,\n",
    "                              \"Percentage of Players\": male_gender_perc})"
   ]
  },
  {
   "cell_type": "code",
   "execution_count": 27,
   "metadata": {},
   "outputs": [],
   "source": [
    "# Count of female players\n",
    "female_players = purchase_data_df[purchase_data_df[\"Gender\"] == \"Female\"]\n",
    "female_players_unique = (female_players[\"SN\"].unique())\n",
    "female_players_unique_count = len(female_players[\"SN\"].unique())\n",
    "female_players_unique_count\n",
    "\n",
    "female_gender_perc = ((female_players_unique_count / total_players_summary_df['Total Players'])*100).map(\"{:,.2f}%\".format)\n",
    "female_gender_perc\n",
    "\n",
    "female_summary = dict()\n",
    "female_summary = pd.DataFrame({\"Gender\": \"Female\", \"Total Count\": female_players_unique_count,\n",
    "                              \"Percentage of Players\": female_gender_perc})"
   ]
  },
  {
   "cell_type": "code",
   "execution_count": 28,
   "metadata": {},
   "outputs": [],
   "source": [
    "# Count of other / non-disclosed\n",
    "other_players = purchase_data_df[purchase_data_df[\"Gender\"] == \"Other / Non-Disclosed\"]\n",
    "other_players_unique = (other_players[\"SN\"].unique())\n",
    "other_players_unique_count = len(other_players[\"SN\"].unique())\n",
    "other_players_unique_count\n",
    "\n",
    "other_gender_perc = ((other_players_unique_count / total_players_summary_df['Total Players'])*100).map(\"{:,.2f}%\".format)\n",
    "other_gender_perc\n",
    "\n",
    "other_summary = dict()\n",
    "other_summary = pd.DataFrame({\"Gender\": \"Other / Non-Disclosed\", \"Total Count\": other_players_unique_count,\n",
    "                              \"Percentage of Players\": other_gender_perc})"
   ]
  },
  {
   "cell_type": "code",
   "execution_count": 29,
   "metadata": {},
   "outputs": [
    {
     "data": {
      "text/html": [
       "<style  type=\"text/css\" >\n",
       "</style><table id=\"T_2c89c53e_b611_11ea_aed2_287fcfdc7f07\" ><thead>    <tr>        <th class=\"col_heading level0 col0\" >Gender</th>        <th class=\"col_heading level0 col1\" >Total Count</th>        <th class=\"col_heading level0 col2\" >Percentage of Players</th>    </tr></thead><tbody>\n",
       "                <tr>\n",
       "                                <td id=\"T_2c89c53e_b611_11ea_aed2_287fcfdc7f07row0_col0\" class=\"data row0 col0\" >Male</td>\n",
       "                        <td id=\"T_2c89c53e_b611_11ea_aed2_287fcfdc7f07row0_col1\" class=\"data row0 col1\" >484</td>\n",
       "                        <td id=\"T_2c89c53e_b611_11ea_aed2_287fcfdc7f07row0_col2\" class=\"data row0 col2\" >84.03%</td>\n",
       "            </tr>\n",
       "            <tr>\n",
       "                                <td id=\"T_2c89c53e_b611_11ea_aed2_287fcfdc7f07row1_col0\" class=\"data row1 col0\" >Female</td>\n",
       "                        <td id=\"T_2c89c53e_b611_11ea_aed2_287fcfdc7f07row1_col1\" class=\"data row1 col1\" >81</td>\n",
       "                        <td id=\"T_2c89c53e_b611_11ea_aed2_287fcfdc7f07row1_col2\" class=\"data row1 col2\" >14.06%</td>\n",
       "            </tr>\n",
       "            <tr>\n",
       "                                <td id=\"T_2c89c53e_b611_11ea_aed2_287fcfdc7f07row2_col0\" class=\"data row2 col0\" >Other / Non-Disclosed</td>\n",
       "                        <td id=\"T_2c89c53e_b611_11ea_aed2_287fcfdc7f07row2_col1\" class=\"data row2 col1\" >11</td>\n",
       "                        <td id=\"T_2c89c53e_b611_11ea_aed2_287fcfdc7f07row2_col2\" class=\"data row2 col2\" >1.91%</td>\n",
       "            </tr>\n",
       "    </tbody></table>"
      ],
      "text/plain": [
       "<pandas.io.formats.style.Styler at 0x1d398c5c448>"
      ]
     },
     "execution_count": 29,
     "metadata": {},
     "output_type": "execute_result"
    }
   ],
   "source": [
    "demo_df = pd.concat([male_summary, female_summary, other_summary],ignore_index=True)\n",
    "demo_df.style.hide_index()"
   ]
  },
  {
   "cell_type": "markdown",
   "metadata": {},
   "source": [
    "\n",
    "## Purchasing Analysis (Gender)"
   ]
  },
  {
   "cell_type": "markdown",
   "metadata": {},
   "source": [
    "* Run basic calculations to obtain purchase count, avg. purchase price, avg. purchase total per person etc. by gender\n",
    "\n",
    "\n",
    "\n",
    "\n",
    "* Create a summary data frame to hold the results\n",
    "\n",
    "\n",
    "* Optional: give the displayed data cleaner formatting\n",
    "\n",
    "\n",
    "* Display the summary data frame"
   ]
  },
  {
   "cell_type": "code",
   "execution_count": 13,
   "metadata": {},
   "outputs": [],
   "source": [
    "# Male purchases\n",
    "male_purchase_count = len(male_players)\n",
    "male_players_APP = male_players[\"Price\"].mean()\n",
    "male_players_TPV = male_players[\"Price\"].sum()\n",
    "male_players_ATPP =(male_players.groupby(\"SN\")[\"Price\"].sum()).mean()\n",
    "\n",
    "male_purchases = dict()\n",
    "male_purchases = pd.DataFrame({\"Gender\": \"Male\", \"Purchase Count\": [male_purchase_count],\n",
    "                              \"Average Purchase Price\": [male_players_APP],\n",
    "                               \"Total Purchase Value\":  [male_players_TPV], \n",
    "                               \"Avg Total Purchase per Person\":[male_players_ATPP]})"
   ]
  },
  {
   "cell_type": "code",
   "execution_count": 14,
   "metadata": {},
   "outputs": [],
   "source": [
    "# Female purchases\n",
    "female_purchase_count = len(female_players)\n",
    "female_players_APP = female_players[\"Price\"].mean()\n",
    "female_players_TPV = female_players[\"Price\"].sum()\n",
    "female_players_ATPP =(female_players.groupby(\"SN\")[\"Price\"].sum()).mean()\n",
    "\n",
    "female_purchases = dict()\n",
    "female_purchases = pd.DataFrame({\"Gender\": \"Female\", \"Purchase Count\": [female_purchase_count],\n",
    "                              \"Average Purchase Price\": [female_players_APP],\n",
    "                               \"Total Purchase Value\":  [female_players_TPV], \n",
    "                               \"Avg Total Purchase per Person\":[female_players_ATPP]})"
   ]
  },
  {
   "cell_type": "code",
   "execution_count": 15,
   "metadata": {},
   "outputs": [],
   "source": [
    "# Other / Non-disclosed purchases\n",
    "other_purchase_count = len(other_players)\n",
    "other_players_APP = other_players[\"Price\"].mean()\n",
    "other_players_TPV = other_players[\"Price\"].sum()\n",
    "other_players_ATPP =(other_players.groupby(\"SN\")[\"Price\"].sum()).mean()\n",
    "\n",
    "other_purchases = dict()\n",
    "other_purchases = pd.DataFrame({\"Gender\": \"Other / Non-Disclosed\", \"Purchase Count\": [other_purchase_count],\n",
    "                              \"Average Purchase Price\": [other_players_APP],\n",
    "                               \"Total Purchase Value\":  [other_players_TPV], \n",
    "                               \"Avg Total Purchase per Person\":[other_players_ATPP]})"
   ]
  },
  {
   "cell_type": "code",
   "execution_count": 16,
   "metadata": {},
   "outputs": [
    {
     "data": {
      "text/html": [
       "<style  type=\"text/css\" >\n",
       "</style><table id=\"T_2311776e_b611_11ea_8494_287fcfdc7f07\" ><thead>    <tr>        <th class=\"col_heading level0 col0\" >Gender</th>        <th class=\"col_heading level0 col1\" >Purchase Count</th>        <th class=\"col_heading level0 col2\" >Average Purchase Price</th>        <th class=\"col_heading level0 col3\" >Total Purchase Value</th>        <th class=\"col_heading level0 col4\" >Avg Total Purchase per Person</th>    </tr></thead><tbody>\n",
       "                <tr>\n",
       "                                <td id=\"T_2311776e_b611_11ea_8494_287fcfdc7f07row0_col0\" class=\"data row0 col0\" >Female</td>\n",
       "                        <td id=\"T_2311776e_b611_11ea_8494_287fcfdc7f07row0_col1\" class=\"data row0 col1\" >113</td>\n",
       "                        <td id=\"T_2311776e_b611_11ea_8494_287fcfdc7f07row0_col2\" class=\"data row0 col2\" >$3.20</td>\n",
       "                        <td id=\"T_2311776e_b611_11ea_8494_287fcfdc7f07row0_col3\" class=\"data row0 col3\" >$361.94</td>\n",
       "                        <td id=\"T_2311776e_b611_11ea_8494_287fcfdc7f07row0_col4\" class=\"data row0 col4\" >$4.47</td>\n",
       "            </tr>\n",
       "            <tr>\n",
       "                                <td id=\"T_2311776e_b611_11ea_8494_287fcfdc7f07row1_col0\" class=\"data row1 col0\" >Male</td>\n",
       "                        <td id=\"T_2311776e_b611_11ea_8494_287fcfdc7f07row1_col1\" class=\"data row1 col1\" >652</td>\n",
       "                        <td id=\"T_2311776e_b611_11ea_8494_287fcfdc7f07row1_col2\" class=\"data row1 col2\" >$3.02</td>\n",
       "                        <td id=\"T_2311776e_b611_11ea_8494_287fcfdc7f07row1_col3\" class=\"data row1 col3\" >$1,967.64</td>\n",
       "                        <td id=\"T_2311776e_b611_11ea_8494_287fcfdc7f07row1_col4\" class=\"data row1 col4\" >$4.07</td>\n",
       "            </tr>\n",
       "            <tr>\n",
       "                                <td id=\"T_2311776e_b611_11ea_8494_287fcfdc7f07row2_col0\" class=\"data row2 col0\" >Other / Non-Disclosed</td>\n",
       "                        <td id=\"T_2311776e_b611_11ea_8494_287fcfdc7f07row2_col1\" class=\"data row2 col1\" >15</td>\n",
       "                        <td id=\"T_2311776e_b611_11ea_8494_287fcfdc7f07row2_col2\" class=\"data row2 col2\" >$3.35</td>\n",
       "                        <td id=\"T_2311776e_b611_11ea_8494_287fcfdc7f07row2_col3\" class=\"data row2 col3\" >$50.19</td>\n",
       "                        <td id=\"T_2311776e_b611_11ea_8494_287fcfdc7f07row2_col4\" class=\"data row2 col4\" >$4.56</td>\n",
       "            </tr>\n",
       "    </tbody></table>"
      ],
      "text/plain": [
       "<pandas.io.formats.style.Styler at 0x1d398c67e08>"
      ]
     },
     "execution_count": 16,
     "metadata": {},
     "output_type": "execute_result"
    }
   ],
   "source": [
    "# Purchase Analysis by Gender\n",
    "demo_purchases_df = pd.concat([female_purchases,male_purchases, other_purchases],ignore_index=True)\n",
    "demo_purchases_df['Average Purchase Price'] = demo_purchases_df['Average Purchase Price'].map('${:,.2f}'.format)\n",
    "demo_purchases_df['Total Purchase Value'] = demo_purchases_df['Total Purchase Value'].map('${:,.2f}'.format)\n",
    "demo_purchases_df['Avg Total Purchase per Person'] = demo_purchases_df['Avg Total Purchase per Person'].map('${:,.2f}'.format)\n",
    "demo_purchases_df.style.hide_index()"
   ]
  },
  {
   "cell_type": "markdown",
   "metadata": {},
   "source": [
    "## Age Demographics"
   ]
  },
  {
   "cell_type": "markdown",
   "metadata": {},
   "source": [
    "* Establish bins for ages\n",
    "\n",
    "\n",
    "* Categorize the existing players using the age bins. Hint: use pd.cut()\n",
    "\n",
    "\n",
    "* Calculate the numbers and percentages by age group\n",
    "\n",
    "\n",
    "* Create a summary data frame to hold the results\n",
    "\n",
    "\n",
    "* Optional: round the percentage column to two decimal points\n",
    "\n",
    "\n",
    "* Display Age Demographics Table\n"
   ]
  },
  {
   "cell_type": "code",
   "execution_count": 17,
   "metadata": {},
   "outputs": [],
   "source": [
    "# Creating bins\n",
    "bins = [0, 9, 14, 19, 24, 29, 34, 39, 100]\n",
    "\n",
    "# Create the names for the eight bins\n",
    "group_names = [\"<10\", \"10-14\", \"15-19\", \"20-24\", \"25-29\",\"30-34\",\"35-39\",\"40+\"]\n",
    "\n",
    "# Categorize the existing players using the age bins\n",
    "age_df = pd.DataFrame(total_players_df[[\"Purchase ID\", \"Total Players\", \"Age\",\n",
    "                           \"Gender\", \"Item ID\", \"Item Name\", \"Price\"]])\n"
   ]
  },
  {
   "cell_type": "code",
   "execution_count": 18,
   "metadata": {},
   "outputs": [
    {
     "data": {
      "text/html": [
       "<div>\n",
       "<style scoped>\n",
       "    .dataframe tbody tr th:only-of-type {\n",
       "        vertical-align: middle;\n",
       "    }\n",
       "\n",
       "    .dataframe tbody tr th {\n",
       "        vertical-align: top;\n",
       "    }\n",
       "\n",
       "    .dataframe thead th {\n",
       "        text-align: right;\n",
       "    }\n",
       "</style>\n",
       "<table border=\"1\" class=\"dataframe\">\n",
       "  <thead>\n",
       "    <tr style=\"text-align: right;\">\n",
       "      <th></th>\n",
       "      <th>Total Count</th>\n",
       "      <th>Percentage of Players</th>\n",
       "    </tr>\n",
       "    <tr>\n",
       "      <th>Age Range</th>\n",
       "      <th></th>\n",
       "      <th></th>\n",
       "    </tr>\n",
       "  </thead>\n",
       "  <tbody>\n",
       "    <tr>\n",
       "      <th>&lt;10</th>\n",
       "      <td>17</td>\n",
       "      <td>2.95%</td>\n",
       "    </tr>\n",
       "    <tr>\n",
       "      <th>10-14</th>\n",
       "      <td>22</td>\n",
       "      <td>3.82%</td>\n",
       "    </tr>\n",
       "    <tr>\n",
       "      <th>15-19</th>\n",
       "      <td>107</td>\n",
       "      <td>18.58%</td>\n",
       "    </tr>\n",
       "    <tr>\n",
       "      <th>20-24</th>\n",
       "      <td>258</td>\n",
       "      <td>44.79%</td>\n",
       "    </tr>\n",
       "    <tr>\n",
       "      <th>25-29</th>\n",
       "      <td>77</td>\n",
       "      <td>13.37%</td>\n",
       "    </tr>\n",
       "    <tr>\n",
       "      <th>30-34</th>\n",
       "      <td>52</td>\n",
       "      <td>9.03%</td>\n",
       "    </tr>\n",
       "    <tr>\n",
       "      <th>35-39</th>\n",
       "      <td>31</td>\n",
       "      <td>5.38%</td>\n",
       "    </tr>\n",
       "    <tr>\n",
       "      <th>40+</th>\n",
       "      <td>12</td>\n",
       "      <td>2.08%</td>\n",
       "    </tr>\n",
       "  </tbody>\n",
       "</table>\n",
       "</div>"
      ],
      "text/plain": [
       "           Total Count Percentage of Players\n",
       "Age Range                                   \n",
       "<10                 17                 2.95%\n",
       "10-14               22                 3.82%\n",
       "15-19              107                18.58%\n",
       "20-24              258                44.79%\n",
       "25-29               77                13.37%\n",
       "30-34               52                 9.03%\n",
       "35-39               31                 5.38%\n",
       "40+                 12                 2.08%"
      ]
     },
     "execution_count": 18,
     "metadata": {},
     "output_type": "execute_result"
    }
   ],
   "source": [
    "# Creating a group based off of the bins\n",
    "age_df[\"Age Range\"] = pd.cut(age_df[\"Age\"], bins, labels=group_names, include_lowest=True)\n",
    "\n",
    "# Creating a group based off of the bins and saving it\n",
    "age_data_df = age_df.groupby(\"Age Range\")\n",
    "age_data_df.count()\n",
    "\n",
    "# Let's work with this new dataframe\n",
    "summary_by_age_df = pd.DataFrame(age_data_df.count())\n",
    "summary_by_age_df \n",
    "\n",
    "# Calculations performed on \"Purchase Id\"\" column \n",
    "summary_by_age_df[\"Purchase ID\"] = (summary_by_age_df[\"Purchase ID\"]/len(total_players_df[\"Total Players\"].unique()))*100\n",
    "summary_by_age_df \n",
    "\n",
    "# format percentages \n",
    "summary_by_age_df[\"Purchase ID\"] = summary_by_age_df[\"Purchase ID\"].map(\"{:,.2f}%\".format)\n",
    "summary_by_age_df\n",
    "\n",
    "#  Reduce number of columns \n",
    "org_summary_by_age_df = summary_by_age_df[[\"Total Players\",\"Purchase ID\"]]\n",
    "org_summary_by_age_df\n",
    "\n",
    "# Rename the columns for the final age demographic table\n",
    "fin_grp_by_age_summary_df = org_summary_by_age_df.rename(columns={\"Total Players\":\"Total Count\",\"Purchase ID\":\"Percentage of Players\"})\n",
    "fin_grp_by_age_summary_df"
   ]
  },
  {
   "cell_type": "markdown",
   "metadata": {},
   "source": [
    "## Purchasing Analysis (Age)"
   ]
  },
  {
   "cell_type": "markdown",
   "metadata": {},
   "source": [
    "* Bin the purchase_data data frame by age\n",
    "\n",
    "\n",
    "* Run basic calculations to obtain purchase count, avg. purchase price, avg. purchase total per person etc. in the table below\n",
    "\n",
    "\n",
    "* Create a summary data frame to hold the results\n",
    "\n",
    "\n",
    "* Optional: give the displayed data cleaner formatting\n",
    "\n",
    "\n",
    "* Display the summary data frame"
   ]
  },
  {
   "cell_type": "code",
   "execution_count": 19,
   "metadata": {},
   "outputs": [
    {
     "data": {
      "text/html": [
       "<div>\n",
       "<style scoped>\n",
       "    .dataframe tbody tr th:only-of-type {\n",
       "        vertical-align: middle;\n",
       "    }\n",
       "\n",
       "    .dataframe tbody tr th {\n",
       "        vertical-align: top;\n",
       "    }\n",
       "\n",
       "    .dataframe thead th {\n",
       "        text-align: right;\n",
       "    }\n",
       "</style>\n",
       "<table border=\"1\" class=\"dataframe\">\n",
       "  <thead>\n",
       "    <tr style=\"text-align: right;\">\n",
       "      <th></th>\n",
       "      <th>Purchase Count</th>\n",
       "      <th>Average Purchase Price</th>\n",
       "      <th>Total Purchase Value</th>\n",
       "      <th>Avg Total Purchase per Person</th>\n",
       "    </tr>\n",
       "    <tr>\n",
       "      <th>Age Range</th>\n",
       "      <th></th>\n",
       "      <th></th>\n",
       "      <th></th>\n",
       "      <th></th>\n",
       "    </tr>\n",
       "  </thead>\n",
       "  <tbody>\n",
       "    <tr>\n",
       "      <th>&lt;10</th>\n",
       "      <td>17</td>\n",
       "      <td>$3.39</td>\n",
       "      <td>$57.63</td>\n",
       "      <td>$3.39</td>\n",
       "    </tr>\n",
       "    <tr>\n",
       "      <th>10-14</th>\n",
       "      <td>22</td>\n",
       "      <td>$3.07</td>\n",
       "      <td>$67.64</td>\n",
       "      <td>$3.07</td>\n",
       "    </tr>\n",
       "    <tr>\n",
       "      <th>15-19</th>\n",
       "      <td>107</td>\n",
       "      <td>$3.10</td>\n",
       "      <td>$331.88</td>\n",
       "      <td>$3.10</td>\n",
       "    </tr>\n",
       "    <tr>\n",
       "      <th>20-24</th>\n",
       "      <td>258</td>\n",
       "      <td>$3.06</td>\n",
       "      <td>$790.39</td>\n",
       "      <td>$3.06</td>\n",
       "    </tr>\n",
       "    <tr>\n",
       "      <th>25-29</th>\n",
       "      <td>77</td>\n",
       "      <td>$2.91</td>\n",
       "      <td>$223.93</td>\n",
       "      <td>$2.91</td>\n",
       "    </tr>\n",
       "    <tr>\n",
       "      <th>30-34</th>\n",
       "      <td>52</td>\n",
       "      <td>$2.92</td>\n",
       "      <td>$151.92</td>\n",
       "      <td>$2.92</td>\n",
       "    </tr>\n",
       "    <tr>\n",
       "      <th>35-39</th>\n",
       "      <td>31</td>\n",
       "      <td>$3.51</td>\n",
       "      <td>$108.81</td>\n",
       "      <td>$3.51</td>\n",
       "    </tr>\n",
       "    <tr>\n",
       "      <th>40+</th>\n",
       "      <td>12</td>\n",
       "      <td>$3.04</td>\n",
       "      <td>$36.45</td>\n",
       "      <td>$3.04</td>\n",
       "    </tr>\n",
       "  </tbody>\n",
       "</table>\n",
       "</div>"
      ],
      "text/plain": [
       "           Purchase Count Average Purchase Price Total Purchase Value  \\\n",
       "Age Range                                                               \n",
       "<10                    17                  $3.39               $57.63   \n",
       "10-14                  22                  $3.07               $67.64   \n",
       "15-19                 107                  $3.10              $331.88   \n",
       "20-24                 258                  $3.06              $790.39   \n",
       "25-29                  77                  $2.91              $223.93   \n",
       "30-34                  52                  $2.92              $151.92   \n",
       "35-39                  31                  $3.51              $108.81   \n",
       "40+                    12                  $3.04               $36.45   \n",
       "\n",
       "          Avg Total Purchase per Person  \n",
       "Age Range                                \n",
       "<10                               $3.39  \n",
       "10-14                             $3.07  \n",
       "15-19                             $3.10  \n",
       "20-24                             $3.06  \n",
       "25-29                             $2.91  \n",
       "30-34                             $2.92  \n",
       "35-39                             $3.51  \n",
       "40+                               $3.04  "
      ]
     },
     "execution_count": 19,
     "metadata": {},
     "output_type": "execute_result"
    }
   ],
   "source": [
    "# Categorize the existing players using the age bins\n",
    "purchase_age_df = pd.DataFrame(purchase_data_df[[\"Purchase ID\", \"SN\", \"Age\",\n",
    "                           \"Gender\", \"Item ID\", \"Item Name\", \"Price\"]])\n",
    "\n",
    "# Creating a group based off of the bins\n",
    "purchase_age_df[\"Age Range\"] = pd.cut(age_df[\"Age\"], bins, labels=group_names, include_lowest=True)\n",
    "\n",
    "# Creating a group based off of the bins and saving it\n",
    "purchase_age_data_df = age_df.groupby(\"Age Range\")\n",
    "\n",
    "# Purchase Count\n",
    "purchase_count_age = purchase_age_data_df[\"Purchase ID\"].count()\n",
    "\n",
    "# Average Purchase Price\n",
    "avg_purchase_price_age = purchase_age_data_df[\"Price\"].mean()\n",
    "\n",
    "# Total Purchase Value\n",
    "total_purchase_value_age = purchase_age_data_df[\"Price\"].sum()\n",
    "\n",
    "# Purchase Total per Person\n",
    "purchase_per_person_age = total_purchase_value_age / fin_grp_by_age_summary_df[\"Total Count\"]\n",
    "\n",
    "# Create data frame with purchase values\n",
    "purchase_age = pd.DataFrame({\"Purchase Count\": purchase_count_age,\n",
    "                                 \"Average Purchase Price\": avg_purchase_price_age,\n",
    "                                 \"Total Purchase Value\":total_purchase_value_age,\n",
    "                                \"Avg Total Purchase per Person\":purchase_per_person_age})\n",
    "\n",
    "# Formatting data\n",
    "purchase_age[\"Average Purchase Price\"] = purchase_age[\"Average Purchase Price\"].map(\"${:,.2f}\".format)\n",
    "purchase_age[\"Total Purchase Value\"] = purchase_age[\"Total Purchase Value\"].map(\"${:,.2f}\".format)\n",
    "purchase_age[\"Avg Total Purchase per Person\"] = purchase_age[\"Avg Total Purchase per Person\"].map(\"${:,.2f}\".format)\n",
    "\n",
    "purchase_age"
   ]
  },
  {
   "cell_type": "markdown",
   "metadata": {},
   "source": [
    "## Top Spenders"
   ]
  },
  {
   "cell_type": "markdown",
   "metadata": {},
   "source": [
    "* Run basic calculations to obtain the results in the table below\n",
    "\n",
    "\n",
    "* Create a summary data frame to hold the results\n",
    "\n",
    "\n",
    "* Sort the total purchase value column in descending order\n",
    "\n",
    "\n",
    "* Optional: give the displayed data cleaner formatting\n",
    "\n",
    "\n",
    "* Display a preview of the summary data frame\n",
    "\n"
   ]
  },
  {
   "cell_type": "code",
   "execution_count": 74,
   "metadata": {},
   "outputs": [
    {
     "data": {
      "text/html": [
       "<div>\n",
       "<style scoped>\n",
       "    .dataframe tbody tr th:only-of-type {\n",
       "        vertical-align: middle;\n",
       "    }\n",
       "\n",
       "    .dataframe tbody tr th {\n",
       "        vertical-align: top;\n",
       "    }\n",
       "\n",
       "    .dataframe thead th {\n",
       "        text-align: right;\n",
       "    }\n",
       "</style>\n",
       "<table border=\"1\" class=\"dataframe\">\n",
       "  <thead>\n",
       "    <tr style=\"text-align: right;\">\n",
       "      <th></th>\n",
       "      <th>Purchase Count</th>\n",
       "      <th>Average Purchase Price</th>\n",
       "      <th>Total Purchase Value</th>\n",
       "    </tr>\n",
       "    <tr>\n",
       "      <th>SN</th>\n",
       "      <th></th>\n",
       "      <th></th>\n",
       "      <th></th>\n",
       "    </tr>\n",
       "  </thead>\n",
       "  <tbody>\n",
       "    <tr>\n",
       "      <th>Lisosia93</th>\n",
       "      <td>5</td>\n",
       "      <td>$3.79</td>\n",
       "      <td>$18.96</td>\n",
       "    </tr>\n",
       "    <tr>\n",
       "      <th>Idastidru52</th>\n",
       "      <td>4</td>\n",
       "      <td>$3.86</td>\n",
       "      <td>$15.45</td>\n",
       "    </tr>\n",
       "    <tr>\n",
       "      <th>Chamjask73</th>\n",
       "      <td>3</td>\n",
       "      <td>$4.61</td>\n",
       "      <td>$13.83</td>\n",
       "    </tr>\n",
       "    <tr>\n",
       "      <th>Iral74</th>\n",
       "      <td>4</td>\n",
       "      <td>$3.40</td>\n",
       "      <td>$13.62</td>\n",
       "    </tr>\n",
       "    <tr>\n",
       "      <th>Iskadarya95</th>\n",
       "      <td>3</td>\n",
       "      <td>$4.37</td>\n",
       "      <td>$13.10</td>\n",
       "    </tr>\n",
       "  </tbody>\n",
       "</table>\n",
       "</div>"
      ],
      "text/plain": [
       "             Purchase Count Average Purchase Price Total Purchase Value\n",
       "SN                                                                     \n",
       "Lisosia93                 5                  $3.79               $18.96\n",
       "Idastidru52               4                  $3.86               $15.45\n",
       "Chamjask73                3                  $4.61               $13.83\n",
       "Iral74                    4                  $3.40               $13.62\n",
       "Iskadarya95               3                  $4.37               $13.10"
      ]
     },
     "execution_count": 74,
     "metadata": {},
     "output_type": "execute_result"
    }
   ],
   "source": [
    "# Group Players\n",
    "spender_data_df = purchase_data_df.groupby(\"SN\")\n",
    "\n",
    "# Purchase Count\n",
    "spender_purchase_count = spender_data_df[\"Purchase ID\"].count()\n",
    "\n",
    "# Average Purchase Price\n",
    "spender_avg_price = spender_data_df[\"Price\"].mean()\n",
    "\n",
    "# Total Purchase Value\n",
    "spender_total_purchase = spender_data_df[\"Price\"].sum()\n",
    "\n",
    "# Create dataframe\n",
    "spender_summary = pd.DataFrame({\"Purchase Count\" : spender_purchase_count,\n",
    "                                 \"Average Purchase Price\": spender_avg_price,\n",
    "                                 \"Total Purchase Value\":spender_total_purchase})\n",
    "\n",
    "# Formatting data\n",
    "spender_summary[\"Average Purchase Price\"] = spender_summary[\"Average Purchase Price\"].map(\"${:,.2f}\".format)\n",
    "spender_summary[\"Total Purchase Value\"] = spender_summary[\"Total Purchase Value\"].astype(float)\n",
    "\n",
    "spender_summary.sort_values([\"Total Purchase Value\"],ascending=False, inplace=True, kind='quicksort')\n",
    "spender_summary[\"Total Purchase Value\"] = spender_summary[\"Total Purchase Value\"].map(\"${:,.2f}\".format)\n",
    "\n",
    "spender_summary.head()"
   ]
  },
  {
   "cell_type": "markdown",
   "metadata": {},
   "source": [
    "## Most Popular Items"
   ]
  },
  {
   "cell_type": "markdown",
   "metadata": {},
   "source": [
    "* Retrieve the Item ID, Item Name, and Item Price columns\n",
    "\n",
    "\n",
    "* Group by Item ID and Item Name. Perform calculations to obtain purchase count, item price, and total purchase value\n",
    "\n",
    "\n",
    "* Create a summary data frame to hold the results\n",
    "\n",
    "\n",
    "* Sort the purchase count column in descending order\n",
    "\n",
    "\n",
    "* Optional: give the displayed data cleaner formatting\n",
    "\n",
    "\n",
    "* Display a preview of the summary data frame\n",
    "\n"
   ]
  },
  {
   "cell_type": "code",
   "execution_count": 88,
   "metadata": {},
   "outputs": [
    {
     "data": {
      "text/html": [
       "<div>\n",
       "<style scoped>\n",
       "    .dataframe tbody tr th:only-of-type {\n",
       "        vertical-align: middle;\n",
       "    }\n",
       "\n",
       "    .dataframe tbody tr th {\n",
       "        vertical-align: top;\n",
       "    }\n",
       "\n",
       "    .dataframe thead th {\n",
       "        text-align: right;\n",
       "    }\n",
       "</style>\n",
       "<table border=\"1\" class=\"dataframe\">\n",
       "  <thead>\n",
       "    <tr style=\"text-align: right;\">\n",
       "      <th></th>\n",
       "      <th></th>\n",
       "      <th>Purchase Count</th>\n",
       "      <th>Item Price</th>\n",
       "      <th>Total Purchase Value</th>\n",
       "    </tr>\n",
       "    <tr>\n",
       "      <th>Item ID</th>\n",
       "      <th>Item Name</th>\n",
       "      <th></th>\n",
       "      <th></th>\n",
       "      <th></th>\n",
       "    </tr>\n",
       "  </thead>\n",
       "  <tbody>\n",
       "    <tr>\n",
       "      <th>92</th>\n",
       "      <th>Final Critic</th>\n",
       "      <td>13</td>\n",
       "      <td>$4.61</td>\n",
       "      <td>$59.99</td>\n",
       "    </tr>\n",
       "    <tr>\n",
       "      <th>178</th>\n",
       "      <th>Oathbreaker, Last Hope of the Breaking Storm</th>\n",
       "      <td>12</td>\n",
       "      <td>$4.23</td>\n",
       "      <td>$50.76</td>\n",
       "    </tr>\n",
       "    <tr>\n",
       "      <th>145</th>\n",
       "      <th>Fiery Glass Crusader</th>\n",
       "      <td>9</td>\n",
       "      <td>$4.58</td>\n",
       "      <td>$41.22</td>\n",
       "    </tr>\n",
       "    <tr>\n",
       "      <th>132</th>\n",
       "      <th>Persuasion</th>\n",
       "      <td>9</td>\n",
       "      <td>$3.22</td>\n",
       "      <td>$28.99</td>\n",
       "    </tr>\n",
       "    <tr>\n",
       "      <th>108</th>\n",
       "      <th>Extraction, Quickblade Of Trembling Hands</th>\n",
       "      <td>9</td>\n",
       "      <td>$3.53</td>\n",
       "      <td>$31.77</td>\n",
       "    </tr>\n",
       "  </tbody>\n",
       "</table>\n",
       "</div>"
      ],
      "text/plain": [
       "                                                      Purchase Count  \\\n",
       "Item ID Item Name                                                      \n",
       "92      Final Critic                                              13   \n",
       "178     Oathbreaker, Last Hope of the Breaking Storm              12   \n",
       "145     Fiery Glass Crusader                                       9   \n",
       "132     Persuasion                                                 9   \n",
       "108     Extraction, Quickblade Of Trembling Hands                  9   \n",
       "\n",
       "                                                     Item Price  \\\n",
       "Item ID Item Name                                                 \n",
       "92      Final Critic                                      $4.61   \n",
       "178     Oathbreaker, Last Hope of the Breaking Storm      $4.23   \n",
       "145     Fiery Glass Crusader                              $4.58   \n",
       "132     Persuasion                                        $3.22   \n",
       "108     Extraction, Quickblade Of Trembling Hands         $3.53   \n",
       "\n",
       "                                                     Total Purchase Value  \n",
       "Item ID Item Name                                                          \n",
       "92      Final Critic                                               $59.99  \n",
       "178     Oathbreaker, Last Hope of the Breaking Storm               $50.76  \n",
       "145     Fiery Glass Crusader                                       $41.22  \n",
       "132     Persuasion                                                 $28.99  \n",
       "108     Extraction, Quickblade Of Trembling Hands                  $31.77  "
      ]
     },
     "execution_count": 88,
     "metadata": {},
     "output_type": "execute_result"
    }
   ],
   "source": [
    "# Group Items\n",
    "items_data = purchase_data_df[[\"Item ID\", \"Item Name\", \"Price\"]]\n",
    "items_data = items_data.groupby(['Item ID','Item Name'])\n",
    "\n",
    "# Purchase Count\n",
    "item_purchase = items_data[\"Price\"].count()\n",
    "\n",
    "# Total Purchase Value\n",
    "item_value = items_data[\"Price\"].sum()\n",
    "\n",
    "# Item Price\n",
    "item_price = item_value / item_purchase\n",
    "\n",
    "# Create dataframe\n",
    "most_popular_items = pd.DataFrame({\"Purchase Count\": item_purchase, \n",
    "                                   \"Item Price\": item_price,\n",
    "                                   \"Total Purchase Value\":item_value})\n",
    "# Formatting data\n",
    "most_popular_items[\"Item Price\"] = most_popular_items[\"Item Price\"].map(\"${:,.2f}\".format)\n",
    "most_popular_items[\"Total Purchase Value\"] = most_popular_items[\"Total Purchase Value\"].map(\"${:,.2f}\".format)\n",
    "most_popular_items.sort_values([\"Purchase Count\"],ascending=False, inplace=True, kind='quicksort')\n",
    "\n",
    "most_popular_items.head()"
   ]
  },
  {
   "cell_type": "markdown",
   "metadata": {},
   "source": [
    "## Most Profitable Items"
   ]
  },
  {
   "cell_type": "markdown",
   "metadata": {},
   "source": [
    "* Sort the above table by total purchase value in descending order\n",
    "\n",
    "\n",
    "* Optional: give the displayed data cleaner formatting\n",
    "\n",
    "\n",
    "* Display a preview of the data frame\n",
    "\n"
   ]
  },
  {
   "cell_type": "code",
   "execution_count": 92,
   "metadata": {
    "scrolled": true
   },
   "outputs": [
    {
     "data": {
      "text/html": [
       "<div>\n",
       "<style scoped>\n",
       "    .dataframe tbody tr th:only-of-type {\n",
       "        vertical-align: middle;\n",
       "    }\n",
       "\n",
       "    .dataframe tbody tr th {\n",
       "        vertical-align: top;\n",
       "    }\n",
       "\n",
       "    .dataframe thead th {\n",
       "        text-align: right;\n",
       "    }\n",
       "</style>\n",
       "<table border=\"1\" class=\"dataframe\">\n",
       "  <thead>\n",
       "    <tr style=\"text-align: right;\">\n",
       "      <th></th>\n",
       "      <th></th>\n",
       "      <th>Purchase Count</th>\n",
       "      <th>Item Price</th>\n",
       "      <th>Total Purchase Value</th>\n",
       "    </tr>\n",
       "    <tr>\n",
       "      <th>Item ID</th>\n",
       "      <th>Item Name</th>\n",
       "      <th></th>\n",
       "      <th></th>\n",
       "      <th></th>\n",
       "    </tr>\n",
       "  </thead>\n",
       "  <tbody>\n",
       "    <tr>\n",
       "      <th>92</th>\n",
       "      <th>Final Critic</th>\n",
       "      <td>13</td>\n",
       "      <td>$4.61</td>\n",
       "      <td>$59.99</td>\n",
       "    </tr>\n",
       "    <tr>\n",
       "      <th>178</th>\n",
       "      <th>Oathbreaker, Last Hope of the Breaking Storm</th>\n",
       "      <td>12</td>\n",
       "      <td>$4.23</td>\n",
       "      <td>$50.76</td>\n",
       "    </tr>\n",
       "    <tr>\n",
       "      <th>82</th>\n",
       "      <th>Nirvana</th>\n",
       "      <td>9</td>\n",
       "      <td>$4.90</td>\n",
       "      <td>$44.10</td>\n",
       "    </tr>\n",
       "    <tr>\n",
       "      <th>145</th>\n",
       "      <th>Fiery Glass Crusader</th>\n",
       "      <td>9</td>\n",
       "      <td>$4.58</td>\n",
       "      <td>$41.22</td>\n",
       "    </tr>\n",
       "    <tr>\n",
       "      <th>103</th>\n",
       "      <th>Singed Scalpel</th>\n",
       "      <td>8</td>\n",
       "      <td>$4.35</td>\n",
       "      <td>$34.80</td>\n",
       "    </tr>\n",
       "  </tbody>\n",
       "</table>\n",
       "</div>"
      ],
      "text/plain": [
       "                                                      Purchase Count  \\\n",
       "Item ID Item Name                                                      \n",
       "92      Final Critic                                              13   \n",
       "178     Oathbreaker, Last Hope of the Breaking Storm              12   \n",
       "82      Nirvana                                                    9   \n",
       "145     Fiery Glass Crusader                                       9   \n",
       "103     Singed Scalpel                                             8   \n",
       "\n",
       "                                                     Item Price  \\\n",
       "Item ID Item Name                                                 \n",
       "92      Final Critic                                      $4.61   \n",
       "178     Oathbreaker, Last Hope of the Breaking Storm      $4.23   \n",
       "82      Nirvana                                           $4.90   \n",
       "145     Fiery Glass Crusader                              $4.58   \n",
       "103     Singed Scalpel                                    $4.35   \n",
       "\n",
       "                                                     Total Purchase Value  \n",
       "Item ID Item Name                                                          \n",
       "92      Final Critic                                               $59.99  \n",
       "178     Oathbreaker, Last Hope of the Breaking Storm               $50.76  \n",
       "82      Nirvana                                                    $44.10  \n",
       "145     Fiery Glass Crusader                                       $41.22  \n",
       "103     Singed Scalpel                                             $34.80  "
      ]
     },
     "execution_count": 92,
     "metadata": {},
     "output_type": "execute_result"
    }
   ],
   "source": [
    "# Formatting data\n",
    "most_profitable_items = pd.DataFrame({\"Purchase Count\": item_purchase, \n",
    "                                   \"Item Price\": item_price,\n",
    "                                   \"Total Purchase Value\":item_value})\n",
    "most_profitable_items[\"Total Purchase Value\"] = most_profitable_items[\"Total Purchase Value\"].astype(float)\n",
    "\n",
    "most_profitable_items.sort_values([\"Total Purchase Value\"],ascending=False, inplace=True, kind='quicksort')\n",
    "\n",
    "most_profitable_items[\"Total Purchase Value\"] = most_profitable_items[\"Total Purchase Value\"].map(\"${:,.2f}\".format)\n",
    "most_profitable_items[\"Item Price\"] = most_profitable_items[\"Item Price\"].map(\"${:,.2f}\".format)\n",
    "most_profitable_items.head()"
   ]
  },
  {
   "cell_type": "code",
   "execution_count": null,
   "metadata": {},
   "outputs": [],
   "source": []
  }
 ],
 "metadata": {
  "anaconda-cloud": {},
  "kernel_info": {
   "name": "python3"
  },
  "kernelspec": {
   "display_name": "Python 3",
   "language": "python",
   "name": "python3"
  },
  "latex_envs": {
   "LaTeX_envs_menu_present": true,
   "autoclose": false,
   "autocomplete": true,
   "bibliofile": "biblio.bib",
   "cite_by": "apalike",
   "current_citInitial": 1,
   "eqLabelWithNumbers": true,
   "eqNumInitial": 1,
   "hotkeys": {
    "equation": "Ctrl-E",
    "itemize": "Ctrl-I"
   },
   "labels_anchors": false,
   "latex_user_defs": false,
   "report_style_numbering": false,
   "user_envs_cfg": false
  },
  "nteract": {
   "version": "0.2.0"
  }
 },
 "nbformat": 4,
 "nbformat_minor": 2
}
